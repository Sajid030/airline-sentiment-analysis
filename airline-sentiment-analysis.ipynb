{
 "cells": [
  {
   "cell_type": "markdown",
   "id": "17af7636",
   "metadata": {},
   "source": [
    "#  TechnoHacks: Data Science\n",
    "\n",
    "## Task1: Social media sentiment analysis\n",
    "\n",
    "### Use a dataset of tweets or Facebook posts and perform sentiment analysis to determine the overall sentiment of the posts"
   ]
  },
  {
   "cell_type": "markdown",
   "id": "ce9680a9",
   "metadata": {
    "papermill": {
     "duration": 0.00566,
     "end_time": "2023-08-02T15:46:13.464338",
     "exception": false,
     "start_time": "2023-08-02T15:46:13.458678",
     "status": "completed"
    },
    "tags": []
   },
   "source": [
    "# Importing Libraries"
   ]
  },
  {
   "cell_type": "code",
   "execution_count": 1,
   "id": "af00934f",
   "metadata": {
    "execution": {
     "iopub.execute_input": "2023-08-02T15:46:13.477322Z",
     "iopub.status.busy": "2023-08-02T15:46:13.476162Z",
     "iopub.status.idle": "2023-08-02T15:46:15.640363Z",
     "shell.execute_reply": "2023-08-02T15:46:15.639267Z"
    },
    "papermill": {
     "duration": 2.172928,
     "end_time": "2023-08-02T15:46:15.642604",
     "exception": false,
     "start_time": "2023-08-02T15:46:13.469676",
     "status": "completed"
    },
    "tags": []
   },
   "outputs": [
    {
     "name": "stderr",
     "output_type": "stream",
     "text": [
      "[nltk_data] Downloading package stopwords to C:\\Users\\MD\n",
      "[nltk_data]     KAMALUDDIN\\AppData\\Roaming\\nltk_data...\n",
      "[nltk_data]   Package stopwords is already up-to-date!\n"
     ]
    }
   ],
   "source": [
    "# Basic libraries\n",
    "import numpy as np\n",
    "import pandas as pd\n",
    "import matplotlib.pyplot as plt\n",
    "import seaborn as sns\n",
    "%matplotlib inline\n",
    "import pickle\n",
    "import warnings\n",
    "warnings.filterwarnings(action='ignore')\n",
    "\n",
    "# nltk\n",
    "import nltk\n",
    "nltk.download('stopwords')\n",
    "\n",
    "## Preprocessing libraries\n",
    "import re\n",
    "from nltk.corpus import stopwords\n",
    "from nltk.stem.porter import PorterStemmer\n",
    "from sklearn.feature_extraction.text import TfidfVectorizer\n",
    "\n",
    "# For Model training\n",
    "from sklearn.model_selection import train_test_split\n",
    "from sklearn.linear_model import LogisticRegression\n",
    "from sklearn.naive_bayes import BernoulliNB\n",
    "from sklearn.svm import LinearSVC              # a variant of SVC optimized for large datasets\n",
    "\n",
    "# Metrics for accuracy\n",
    "from sklearn.metrics import accuracy_score,confusion_matrix, classification_report"
   ]
  },
  {
   "cell_type": "code",
   "execution_count": 2,
   "id": "408be243",
   "metadata": {
    "execution": {
     "iopub.execute_input": "2023-08-02T15:46:15.654663Z",
     "iopub.status.busy": "2023-08-02T15:46:15.654321Z",
     "iopub.status.idle": "2023-08-02T15:46:15.827726Z",
     "shell.execute_reply": "2023-08-02T15:46:15.826663Z"
    },
    "papermill": {
     "duration": 0.182235,
     "end_time": "2023-08-02T15:46:15.830318",
     "exception": false,
     "start_time": "2023-08-02T15:46:15.648083",
     "status": "completed"
    },
    "tags": []
   },
   "outputs": [
    {
     "data": {
      "text/html": [
       "<div>\n",
       "<style scoped>\n",
       "    .dataframe tbody tr th:only-of-type {\n",
       "        vertical-align: middle;\n",
       "    }\n",
       "\n",
       "    .dataframe tbody tr th {\n",
       "        vertical-align: top;\n",
       "    }\n",
       "\n",
       "    .dataframe thead th {\n",
       "        text-align: right;\n",
       "    }\n",
       "</style>\n",
       "<table border=\"1\" class=\"dataframe\">\n",
       "  <thead>\n",
       "    <tr style=\"text-align: right;\">\n",
       "      <th></th>\n",
       "      <th>tweet_id</th>\n",
       "      <th>airline_sentiment</th>\n",
       "      <th>airline_sentiment_confidence</th>\n",
       "      <th>negativereason</th>\n",
       "      <th>negativereason_confidence</th>\n",
       "      <th>airline</th>\n",
       "      <th>airline_sentiment_gold</th>\n",
       "      <th>name</th>\n",
       "      <th>negativereason_gold</th>\n",
       "      <th>retweet_count</th>\n",
       "      <th>text</th>\n",
       "      <th>tweet_coord</th>\n",
       "      <th>tweet_created</th>\n",
       "      <th>tweet_location</th>\n",
       "      <th>user_timezone</th>\n",
       "    </tr>\n",
       "  </thead>\n",
       "  <tbody>\n",
       "    <tr>\n",
       "      <th>0</th>\n",
       "      <td>570306133677760513</td>\n",
       "      <td>neutral</td>\n",
       "      <td>1.0000</td>\n",
       "      <td>NaN</td>\n",
       "      <td>NaN</td>\n",
       "      <td>Virgin America</td>\n",
       "      <td>NaN</td>\n",
       "      <td>cairdin</td>\n",
       "      <td>NaN</td>\n",
       "      <td>0</td>\n",
       "      <td>@VirginAmerica What @dhepburn said.</td>\n",
       "      <td>NaN</td>\n",
       "      <td>2015-02-24 11:35:52 -0800</td>\n",
       "      <td>NaN</td>\n",
       "      <td>Eastern Time (US &amp; Canada)</td>\n",
       "    </tr>\n",
       "    <tr>\n",
       "      <th>1</th>\n",
       "      <td>570301130888122368</td>\n",
       "      <td>positive</td>\n",
       "      <td>0.3486</td>\n",
       "      <td>NaN</td>\n",
       "      <td>0.0000</td>\n",
       "      <td>Virgin America</td>\n",
       "      <td>NaN</td>\n",
       "      <td>jnardino</td>\n",
       "      <td>NaN</td>\n",
       "      <td>0</td>\n",
       "      <td>@VirginAmerica plus you've added commercials t...</td>\n",
       "      <td>NaN</td>\n",
       "      <td>2015-02-24 11:15:59 -0800</td>\n",
       "      <td>NaN</td>\n",
       "      <td>Pacific Time (US &amp; Canada)</td>\n",
       "    </tr>\n",
       "    <tr>\n",
       "      <th>2</th>\n",
       "      <td>570301083672813571</td>\n",
       "      <td>neutral</td>\n",
       "      <td>0.6837</td>\n",
       "      <td>NaN</td>\n",
       "      <td>NaN</td>\n",
       "      <td>Virgin America</td>\n",
       "      <td>NaN</td>\n",
       "      <td>yvonnalynn</td>\n",
       "      <td>NaN</td>\n",
       "      <td>0</td>\n",
       "      <td>@VirginAmerica I didn't today... Must mean I n...</td>\n",
       "      <td>NaN</td>\n",
       "      <td>2015-02-24 11:15:48 -0800</td>\n",
       "      <td>Lets Play</td>\n",
       "      <td>Central Time (US &amp; Canada)</td>\n",
       "    </tr>\n",
       "    <tr>\n",
       "      <th>3</th>\n",
       "      <td>570301031407624196</td>\n",
       "      <td>negative</td>\n",
       "      <td>1.0000</td>\n",
       "      <td>Bad Flight</td>\n",
       "      <td>0.7033</td>\n",
       "      <td>Virgin America</td>\n",
       "      <td>NaN</td>\n",
       "      <td>jnardino</td>\n",
       "      <td>NaN</td>\n",
       "      <td>0</td>\n",
       "      <td>@VirginAmerica it's really aggressive to blast...</td>\n",
       "      <td>NaN</td>\n",
       "      <td>2015-02-24 11:15:36 -0800</td>\n",
       "      <td>NaN</td>\n",
       "      <td>Pacific Time (US &amp; Canada)</td>\n",
       "    </tr>\n",
       "    <tr>\n",
       "      <th>4</th>\n",
       "      <td>570300817074462722</td>\n",
       "      <td>negative</td>\n",
       "      <td>1.0000</td>\n",
       "      <td>Can't Tell</td>\n",
       "      <td>1.0000</td>\n",
       "      <td>Virgin America</td>\n",
       "      <td>NaN</td>\n",
       "      <td>jnardino</td>\n",
       "      <td>NaN</td>\n",
       "      <td>0</td>\n",
       "      <td>@VirginAmerica and it's a really big bad thing...</td>\n",
       "      <td>NaN</td>\n",
       "      <td>2015-02-24 11:14:45 -0800</td>\n",
       "      <td>NaN</td>\n",
       "      <td>Pacific Time (US &amp; Canada)</td>\n",
       "    </tr>\n",
       "  </tbody>\n",
       "</table>\n",
       "</div>"
      ],
      "text/plain": [
       "             tweet_id airline_sentiment  airline_sentiment_confidence  \\\n",
       "0  570306133677760513           neutral                        1.0000   \n",
       "1  570301130888122368          positive                        0.3486   \n",
       "2  570301083672813571           neutral                        0.6837   \n",
       "3  570301031407624196          negative                        1.0000   \n",
       "4  570300817074462722          negative                        1.0000   \n",
       "\n",
       "  negativereason  negativereason_confidence         airline  \\\n",
       "0            NaN                        NaN  Virgin America   \n",
       "1            NaN                     0.0000  Virgin America   \n",
       "2            NaN                        NaN  Virgin America   \n",
       "3     Bad Flight                     0.7033  Virgin America   \n",
       "4     Can't Tell                     1.0000  Virgin America   \n",
       "\n",
       "  airline_sentiment_gold        name negativereason_gold  retweet_count  \\\n",
       "0                    NaN     cairdin                 NaN              0   \n",
       "1                    NaN    jnardino                 NaN              0   \n",
       "2                    NaN  yvonnalynn                 NaN              0   \n",
       "3                    NaN    jnardino                 NaN              0   \n",
       "4                    NaN    jnardino                 NaN              0   \n",
       "\n",
       "                                                text tweet_coord  \\\n",
       "0                @VirginAmerica What @dhepburn said.         NaN   \n",
       "1  @VirginAmerica plus you've added commercials t...         NaN   \n",
       "2  @VirginAmerica I didn't today... Must mean I n...         NaN   \n",
       "3  @VirginAmerica it's really aggressive to blast...         NaN   \n",
       "4  @VirginAmerica and it's a really big bad thing...         NaN   \n",
       "\n",
       "               tweet_created tweet_location               user_timezone  \n",
       "0  2015-02-24 11:35:52 -0800            NaN  Eastern Time (US & Canada)  \n",
       "1  2015-02-24 11:15:59 -0800            NaN  Pacific Time (US & Canada)  \n",
       "2  2015-02-24 11:15:48 -0800      Lets Play  Central Time (US & Canada)  \n",
       "3  2015-02-24 11:15:36 -0800            NaN  Pacific Time (US & Canada)  \n",
       "4  2015-02-24 11:14:45 -0800            NaN  Pacific Time (US & Canada)  "
      ]
     },
     "execution_count": 2,
     "metadata": {},
     "output_type": "execute_result"
    }
   ],
   "source": [
    "# Reading our dataset\n",
    "df = pd.read_csv('Tweets.csv')\n",
    "print(\"Total Records:\", df.shape)\n",
    "df.head()"
   ]
  },
  {
   "cell_type": "markdown",
   "id": "bc2e7950",
   "metadata": {
    "papermill": {
     "duration": 0.005313,
     "end_time": "2023-08-02T15:46:15.841227",
     "exception": false,
     "start_time": "2023-08-02T15:46:15.835914",
     "status": "completed"
    },
    "tags": []
   },
   "source": [
    "# EDA"
   ]
  },
  {
   "cell_type": "code",
   "execution_count": 3,
   "id": "05b0a983",
   "metadata": {
    "execution": {
     "iopub.execute_input": "2023-08-02T15:46:15.854036Z",
     "iopub.status.busy": "2023-08-02T15:46:15.853239Z",
     "iopub.status.idle": "2023-08-02T15:46:15.888401Z",
     "shell.execute_reply": "2023-08-02T15:46:15.887649Z"
    },
    "papermill": {
     "duration": 0.043741,
     "end_time": "2023-08-02T15:46:15.890412",
     "exception": false,
     "start_time": "2023-08-02T15:46:15.846671",
     "status": "completed"
    },
    "tags": []
   },
   "outputs": [
    {
     "data": {
      "text/plain": [
       "tweet_id                            0\n",
       "airline_sentiment                   0\n",
       "airline_sentiment_confidence        0\n",
       "negativereason                   5462\n",
       "negativereason_confidence        4118\n",
       "airline                             0\n",
       "airline_sentiment_gold          14600\n",
       "name                                0\n",
       "negativereason_gold             14608\n",
       "retweet_count                       0\n",
       "text                                0\n",
       "tweet_coord                     13621\n",
       "tweet_created                       0\n",
       "tweet_location                   4733\n",
       "user_timezone                    4820\n",
       "dtype: int64"
      ]
     },
     "execution_count": 3,
     "metadata": {},
     "output_type": "execute_result"
    }
   ],
   "source": [
    "df.isnull().sum()"
   ]
  },
  {
   "cell_type": "code",
   "execution_count": 4,
   "id": "d1c683d3",
   "metadata": {
    "execution": {
     "iopub.execute_input": "2023-08-02T15:46:15.903803Z",
     "iopub.status.busy": "2023-08-02T15:46:15.903221Z",
     "iopub.status.idle": "2023-08-02T15:46:16.134598Z",
     "shell.execute_reply": "2023-08-02T15:46:16.133486Z"
    },
    "papermill": {
     "duration": 0.240385,
     "end_time": "2023-08-02T15:46:16.136753",
     "exception": false,
     "start_time": "2023-08-02T15:46:15.896368",
     "status": "completed"
    },
    "tags": []
   },
   "outputs": [
    {
     "data": {
      "image/png": "[encoded data removed]",
      "text/plain": [
       "<Figure size 700x300 with 1 Axes>"
      ]
     },
     "metadata": {},
     "output_type": "display_data"
    }
   ],
   "source": [
    "# Checking the distribution of airlines\n",
    "plt.figure(figsize=(7,3))\n",
    "sns.countplot(data=df,x='airline', palette=['#1f78b4', '#33a02c', '#e31a1c', '#ff7f00', '#6a3d9a', '#a6cee3'])\n",
    "plt.show()"
   ]
  },
  {
   "cell_type": "code",
   "execution_count": 5,
   "id": "3fe2d65f",
   "metadata": {
    "execution": {
     "iopub.execute_input": "2023-08-02T15:46:16.151350Z",
     "iopub.status.busy": "2023-08-02T15:46:16.150707Z",
     "iopub.status.idle": "2023-08-02T15:46:16.331751Z",
     "shell.execute_reply": "2023-08-02T15:46:16.330657Z"
    },
    "papermill": {
     "duration": 0.190751,
     "end_time": "2023-08-02T15:46:16.333865",
     "exception": false,
     "start_time": "2023-08-02T15:46:16.143114",
     "status": "completed"
    },
    "tags": []
   },
   "outputs": [
    {
     "data": {
      "image/png": "[encoded data removed]",
      "text/plain": [
       "<Figure size 700x300 with 1 Axes>"
      ]
     },
     "metadata": {},
     "output_type": "display_data"
    }
   ],
   "source": [
    "# Seeing the distribution of positive and negative tweet reviews in target column\n",
    "plt.figure(figsize=(7,3))\n",
    "sns.countplot(data=df,x='airline_sentiment',palette=['yellow', 'green','red'])\n",
    "plt.show()"
   ]
  },
  {
   "cell_type": "code",
   "execution_count": 6,
   "id": "91a9c22e",
   "metadata": {
    "execution": {
     "iopub.execute_input": "2023-08-02T15:46:16.348318Z",
     "iopub.status.busy": "2023-08-02T15:46:16.347707Z",
     "iopub.status.idle": "2023-08-02T15:46:16.659775Z",
     "shell.execute_reply": "2023-08-02T15:46:16.658673Z"
    },
    "papermill": {
     "duration": 0.322276,
     "end_time": "2023-08-02T15:46:16.662462",
     "exception": false,
     "start_time": "2023-08-02T15:46:16.340186",
     "status": "completed"
    },
    "tags": []
   },
   "outputs": [
    {
     "data": {
      "image/png": "[encoded data removed]",
      "text/plain": [
       "<Figure size 800x800 with 1 Axes>"
      ]
     },
     "metadata": {},
     "output_type": "display_data"
    }
   ],
   "source": [
    "# Calculate the value counts for each negative reason\n",
    "value_counts = df['negativereason'].value_counts()\n",
    "\n",
    "# Create a donut-like pie chart using matplotlib and seaborn\n",
    "plt.figure(figsize=(8, 8))\n",
    "labels = value_counts.index\n",
    "values = value_counts.values\n",
    "colors = sns.color_palette('pastel')[0:len(labels)]  # Use pastel colors for the chart\n",
    "plt.pie(values, labels=labels, colors=colors, autopct='%1.1f%%', startangle=140, wedgeprops=dict(width=0.3))\n",
    "plt.title('Overall distribution for negative reasons')\n",
    "plt.axis('equal')  # Equal aspect ratio ensures the pie chart is drawn as a circle.\n",
    "plt.show()"
   ]
  },
  {
   "cell_type": "markdown",
   "id": "ad87c54c",
   "metadata": {
    "papermill": {
     "duration": 0.007326,
     "end_time": "2023-08-02T15:46:16.678778",
     "exception": false,
     "start_time": "2023-08-02T15:46:16.671452",
     "status": "completed"
    },
    "tags": []
   },
   "source": [
    "## Data clearing and preprocessing of Text"
   ]
  },
  {
   "cell_type": "code",
   "execution_count": 7,
   "id": "4eeac819",
   "metadata": {
    "execution": {
     "iopub.execute_input": "2023-08-02T15:46:16.696350Z",
     "iopub.status.busy": "2023-08-02T15:46:16.695280Z",
     "iopub.status.idle": "2023-08-02T15:46:55.750537Z",
     "shell.execute_reply": "2023-08-02T15:46:55.749352Z"
    },
    "papermill": {
     "duration": 39.066934,
     "end_time": "2023-08-02T15:46:55.753272",
     "exception": false,
     "start_time": "2023-08-02T15:46:16.686338",
     "status": "completed"
    },
    "tags": []
   },
   "outputs": [],
   "source": [
    "corpus = []\n",
    "ps=PorterStemmer()\n",
    "for i in range(len(df)):\n",
    "    # Removing special characters from text(message)\n",
    "    review = re.sub('[^a-zA-Z]', ' ', df['text'][i])\n",
    "    \n",
    "    # Converting entire text into lower case\n",
    "    review = review.lower()\n",
    "    \n",
    "    # Splitting our text into words\n",
    "    review = review.split()\n",
    "    \n",
    "    # Stemming and removing stopwords\n",
    "    review = [ps.stem(word) for word in review if not word in set(stopwords.words('english'))]\n",
    "    \n",
    "    # Joining all the words into a comple text\n",
    "    review = ' '.join(review)\n",
    "    \n",
    "    # Appending each text into the list corpus\n",
    "    corpus.append(review)                                    "
   ]
  },
  {
   "cell_type": "code",
   "execution_count": 8,
   "id": "b59afbb0",
   "metadata": {
    "execution": {
     "iopub.execute_input": "2023-08-02T15:46:55.770711Z",
     "iopub.status.busy": "2023-08-02T15:46:55.770305Z",
     "iopub.status.idle": "2023-08-02T15:46:55.775223Z",
     "shell.execute_reply": "2023-08-02T15:46:55.774123Z"
    },
    "papermill": {
     "duration": 0.016342,
     "end_time": "2023-08-02T15:46:55.777510",
     "exception": false,
     "start_time": "2023-08-02T15:46:55.761168",
     "status": "completed"
    },
    "tags": []
   },
   "outputs": [],
   "source": [
    "# Creating the Bag of Words model\n",
    "cv = TfidfVectorizer(ngram_range=(1,2), max_features=500000)"
   ]
  },
  {
   "cell_type": "code",
   "execution_count": 9,
   "id": "5d883edc",
   "metadata": {
    "execution": {
     "iopub.execute_input": "2023-08-02T15:46:55.794885Z",
     "iopub.status.busy": "2023-08-02T15:46:55.794181Z",
     "iopub.status.idle": "2023-08-02T15:46:56.424297Z",
     "shell.execute_reply": "2023-08-02T15:46:56.423114Z"
    },
    "papermill": {
     "duration": 0.641798,
     "end_time": "2023-08-02T15:46:56.426980",
     "exception": false,
     "start_time": "2023-08-02T15:46:55.785182",
     "status": "completed"
    },
    "tags": []
   },
   "outputs": [],
   "source": [
    "# We will use X as independent feature section\n",
    "X = cv.fit_transform(corpus)\n",
    "# We will use y as dependent feature section\n",
    "y=df['airline_sentiment']"
   ]
  },
  {
   "cell_type": "code",
   "execution_count": 10,
   "id": "13dd472c",
   "metadata": {
    "execution": {
     "iopub.execute_input": "2023-08-02T15:46:56.444569Z",
     "iopub.status.busy": "2023-08-02T15:46:56.443830Z",
     "iopub.status.idle": "2023-08-02T15:46:56.553238Z",
     "shell.execute_reply": "2023-08-02T15:46:56.552068Z"
    },
    "papermill": {
     "duration": 0.120469,
     "end_time": "2023-08-02T15:46:56.555444",
     "exception": false,
     "start_time": "2023-08-02T15:46:56.434975",
     "status": "completed"
    },
    "tags": []
   },
   "outputs": [
    {
     "name": "stdout",
     "output_type": "stream",
     "text": [
      "No. of feature_words:  91436\n"
     ]
    }
   ],
   "source": [
    "print('No. of feature_words: ', len(cv.get_feature_names_out()))"
   ]
  },
  {
   "cell_type": "code",
   "execution_count": 11,
   "id": "89b289b4",
   "metadata": {
    "execution": {
     "iopub.execute_input": "2023-08-02T15:46:56.572850Z",
     "iopub.status.busy": "2023-08-02T15:46:56.572025Z",
     "iopub.status.idle": "2023-08-02T15:46:56.884911Z",
     "shell.execute_reply": "2023-08-02T15:46:56.883868Z"
    },
    "papermill": {
     "duration": 0.32417,
     "end_time": "2023-08-02T15:46:56.887429",
     "exception": false,
     "start_time": "2023-08-02T15:46:56.563259",
     "status": "completed"
    },
    "tags": []
   },
   "outputs": [],
   "source": [
    "# Creating a pickle file for the TfidfVectorizer\n",
    "with open('cv-transform.pkl', 'wb') as f:\n",
    "    pickle.dump(cv, f)"
   ]
  },
  {
   "cell_type": "markdown",
   "id": "60f57772",
   "metadata": {
    "papermill": {
     "duration": 0.007244,
     "end_time": "2023-08-02T15:46:56.902467",
     "exception": false,
     "start_time": "2023-08-02T15:46:56.895223",
     "status": "completed"
    },
    "tags": []
   },
   "source": [
    "# Model Training"
   ]
  },
  {
   "cell_type": "code",
   "execution_count": 12,
   "id": "725fc6d3",
   "metadata": {
    "execution": {
     "iopub.execute_input": "2023-08-02T15:46:56.919475Z",
     "iopub.status.busy": "2023-08-02T15:46:56.918762Z",
     "iopub.status.idle": "2023-08-02T15:46:56.929090Z",
     "shell.execute_reply": "2023-08-02T15:46:56.928155Z"
    },
    "papermill": {
     "duration": 0.021328,
     "end_time": "2023-08-02T15:46:56.931352",
     "exception": false,
     "start_time": "2023-08-02T15:46:56.910024",
     "status": "completed"
    },
    "tags": []
   },
   "outputs": [],
   "source": [
    "# Train Test Split\n",
    "X_train, X_test, y_train, y_test = train_test_split(X, y, test_size = 0.30, random_state = 0)"
   ]
  },
  {
   "cell_type": "code",
   "execution_count": 13,
   "id": "b8e46f3f",
   "metadata": {
    "execution": {
     "iopub.execute_input": "2023-08-02T15:46:56.948235Z",
     "iopub.status.busy": "2023-08-02T15:46:56.947888Z",
     "iopub.status.idle": "2023-08-02T15:46:56.952932Z",
     "shell.execute_reply": "2023-08-02T15:46:56.951940Z"
    },
    "papermill": {
     "duration": 0.016054,
     "end_time": "2023-08-02T15:46:56.955109",
     "exception": false,
     "start_time": "2023-08-02T15:46:56.939055",
     "status": "completed"
    },
    "tags": []
   },
   "outputs": [],
   "source": [
    "# Training using three algorithms, let's see which will give us better result\n",
    "model1=LogisticRegression()\n",
    "model2=BernoulliNB()\n",
    "model3=LinearSVC()\n",
    "model=[model1, model2, model3]"
   ]
  },
  {
   "cell_type": "code",
   "execution_count": 14,
   "id": "ff5e1f02",
   "metadata": {
    "execution": {
     "iopub.execute_input": "2023-08-02T15:46:56.972020Z",
     "iopub.status.busy": "2023-08-02T15:46:56.971376Z",
     "iopub.status.idle": "2023-08-02T15:47:08.303073Z",
     "shell.execute_reply": "2023-08-02T15:47:08.301541Z"
    },
    "papermill": {
     "duration": 11.342719,
     "end_time": "2023-08-02T15:47:08.305381",
     "exception": false,
     "start_time": "2023-08-02T15:46:56.962662",
     "status": "completed"
    },
    "tags": []
   },
   "outputs": [
    {
     "name": "stdout",
     "output_type": "stream",
     "text": [
      "M-O-D-E-L : 1\n",
      "Confusion matrix : \n",
      " [[2694  532  285]\n",
      " [  77  351   81]\n",
      " [  17   36  319]]\n",
      "Accuracy score :  0.7659380692167578\n",
      "Classification Report : \n",
      "               precision    recall  f1-score   support\n",
      "\n",
      "    negative       0.97      0.77      0.86      3511\n",
      "     neutral       0.38      0.69      0.49       509\n",
      "    positive       0.47      0.86      0.60       372\n",
      "\n",
      "    accuracy                           0.77      4392\n",
      "   macro avg       0.60      0.77      0.65      4392\n",
      "weighted avg       0.86      0.77      0.79      4392\n",
      "\n",
      "-----------------------------------------------------------\n",
      "\n",
      "M-O-D-E-L : 2\n",
      "Confusion matrix : \n",
      " [[2780  850  670]\n",
      " [   8   69   13]\n",
      " [   0    0    2]]\n",
      "Accuracy score :  0.6491347905282332\n",
      "Classification Report : \n",
      "               precision    recall  f1-score   support\n",
      "\n",
      "    negative       1.00      0.65      0.78      4300\n",
      "     neutral       0.08      0.77      0.14        90\n",
      "    positive       0.00      1.00      0.01         2\n",
      "\n",
      "    accuracy                           0.65      4392\n",
      "   macro avg       0.36      0.80      0.31      4392\n",
      "weighted avg       0.98      0.65      0.77      4392\n",
      "\n",
      "-----------------------------------------------------------\n",
      "\n",
      "M-O-D-E-L : 3\n",
      "Confusion matrix : \n",
      " [[2620  428  197]\n",
      " [ 135  426  100]\n",
      " [  33   65  388]]\n",
      "Accuracy score :  0.7818761384335154\n",
      "Classification Report : \n",
      "               precision    recall  f1-score   support\n",
      "\n",
      "    negative       0.94      0.81      0.87      3245\n",
      "     neutral       0.46      0.64      0.54       661\n",
      "    positive       0.57      0.80      0.66       486\n",
      "\n",
      "    accuracy                           0.78      4392\n",
      "   macro avg       0.66      0.75      0.69      4392\n",
      "weighted avg       0.83      0.78      0.80      4392\n",
      "\n",
      "-----------------------------------------------------------\n",
      "\n"
     ]
    }
   ],
   "source": [
    "i = 0\n",
    "for algo in model:\n",
    "  i += 1\n",
    "  print(\"M-O-D-E-L :\",i)\n",
    "  algo.fit(X_train, y_train)\n",
    "  y_pred=algo.predict(X_test)\n",
    "  # Checking the accuracy\n",
    "  print(\"Confusion matrix : \\n\",confusion_matrix(y_pred,y_test))\n",
    "  print(\"Accuracy score : \",accuracy_score(y_pred,y_test))\n",
    "  print(\"Classification Report : \\n\",classification_report(y_pred,y_test))\n",
    "  print(\"-----------------------------------------------------------\\n\")"
   ]
  },
  {
   "cell_type": "markdown",
   "id": "90a4a0be",
   "metadata": {
    "papermill": {
     "duration": 0.007744,
     "end_time": "2023-08-02T15:47:08.321298",
     "exception": false,
     "start_time": "2023-08-02T15:47:08.313554",
     "status": "completed"
    },
    "tags": []
   },
   "source": [
    "#### Based on the metrics, Model 3 appears to be the best performer among the three models. It has the highest accuracy score (0.782) and generally higher precision, recall, and F1-scores for all three classes compared to Model 1 and Model 2. Model 1 also performs reasonably well with a good accuracy score (0.766) and balanced precision and recall for each class.\n",
    "\n",
    "#### On the other hand, Model 2 shows relatively low accuracy (0.649) and poor precision and F1-scores for all classes, except for \"negative\" where it has a relatively higher recall. This suggests that Model 2 may have difficulties in correctly classifying the data points for most classes.\n",
    "\n",
    "#### Overall, Model 3 is the recommended choice for its better overall performance across various metrics."
   ]
  },
  {
   "cell_type": "code",
   "execution_count": 15,
   "id": "77753671",
   "metadata": {
    "execution": {
     "iopub.execute_input": "2023-08-02T15:47:08.339305Z",
     "iopub.status.busy": "2023-08-02T15:47:08.338925Z",
     "iopub.status.idle": "2023-08-02T15:47:08.346727Z",
     "shell.execute_reply": "2023-08-02T15:47:08.345501Z"
    },
    "papermill": {
     "duration": 0.019777,
     "end_time": "2023-08-02T15:47:08.349056",
     "exception": false,
     "start_time": "2023-08-02T15:47:08.329279",
     "status": "completed"
    },
    "tags": []
   },
   "outputs": [],
   "source": [
    "# Creating a pickle file for our model 3 i.e. LinearSVC\n",
    "with open(\"tweetmodel.pkl\",\"wb\") as file:\n",
    "  pickle.dump(model3,file)"
   ]
  },
  {
   "cell_type": "markdown",
   "id": "54b81cea",
   "metadata": {
    "papermill": {
     "duration": 0.007864,
     "end_time": "2023-08-02T15:47:08.364966",
     "exception": false,
     "start_time": "2023-08-02T15:47:08.357102",
     "status": "completed"
    },
    "tags": []
   },
   "source": [
    "## Thank You 😊"
   ]
  },
  {
   "cell_type": "code",
   "execution_count": null,
   "id": "4b91de59",
   "metadata": {
    "papermill": {
     "duration": 0.007705,
     "end_time": "2023-08-02T15:47:08.380611",
     "exception": false,
     "start_time": "2023-08-02T15:47:08.372906",
     "status": "completed"
    },
    "tags": []
   },
   "outputs": [],
   "source": []
  }
 ],
 "metadata": {
  "kernelspec": {
   "display_name": "Python 3 (ipykernel)",
   "language": "python",
   "name": "python3"
  },
  "language_info": {
   "codemirror_mode": {
    "name": "ipython",
    "version": 3
   },
   "file_extension": ".py",
   "mimetype": "text/x-python",
   "name": "python",
   "nbconvert_exporter": "python",
   "pygments_lexer": "ipython3",
   "version": "3.10.10"
  },
  "papermill": {
   "default_parameters": {},
   "duration": 64.83837,
   "end_time": "2023-08-02T15:47:09.410817",
   "environment_variables": {},
   "exception": null,
   "input_path": "__notebook__.ipynb",
   "output_path": "__notebook__.ipynb",
   "parameters": {},
   "start_time": "2023-08-02T15:46:04.572447",
   "version": "2.4.0"
  }
 },
 "nbformat": 4,
 "nbformat_minor": 5
}
